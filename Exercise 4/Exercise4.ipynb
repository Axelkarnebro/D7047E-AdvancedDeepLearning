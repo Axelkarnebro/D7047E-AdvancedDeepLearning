{
 "cells": [
  {
   "cell_type": "code",
   "execution_count": 2,
   "metadata": {},
   "outputs": [
    {
     "name": "stdout",
     "output_type": "stream",
     "text": [
      "cuda\n"
     ]
    }
   ],
   "source": [
    "# Model yoinked from https://github.com/spro/char-rnn.pytorch\n",
    "\n",
    "import torch\n",
    "import torch.nn as nn\n",
    "from torch.autograd import Variable\n",
    "import argparse\n",
    "import os\n",
    "\n",
    "from tqdm import tqdm\n",
    "\n",
    "\n",
    "device = torch.device('cuda' if torch.cuda.is_available() else 'cpu')\n",
    "print(device)"
   ]
  },
  {
   "cell_type": "code",
   "execution_count": 3,
   "metadata": {},
   "outputs": [],
   "source": [
    "#HELPER FUNCTIONS\n",
    "import unidecode\n",
    "import string\n",
    "import random\n",
    "import time\n",
    "import math\n",
    "import torch\n",
    "\n",
    "# Reading and un-unicode-encoding data\n",
    "\n",
    "all_characters = string.printable\n",
    "n_characters = len(all_characters)\n",
    "\n",
    "def read_file(filename):\n",
    "    file = unidecode.unidecode(open(filename).read())\n",
    "    return file, len(file)\n",
    "\n",
    "# Turning a string into a tensor\n",
    "\n",
    "def char_tensor(string):\n",
    "    tensor = torch.zeros(len(string)).long()\n",
    "    for c in range(len(string)):\n",
    "        try:\n",
    "            tensor[c] = all_characters.index(string[c])\n",
    "        except:\n",
    "            continue\n",
    "    return tensor\n",
    "\n",
    "# Readable time elapsed\n",
    "\n",
    "def time_since(since):\n",
    "    s = time.time() - since\n",
    "    m = math.floor(s / 60)\n",
    "    s -= m * 60\n",
    "    return '%dm %ds' % (m, s)"
   ]
  },
  {
   "cell_type": "code",
   "execution_count": 4,
   "metadata": {},
   "outputs": [],
   "source": [
    "#Create model class\n",
    "class CharRNN(nn.Module):\n",
    "    def __init__(self, input_size, hidden_size, output_size, model=\"gru\", n_layers=1):\n",
    "        super(CharRNN, self).__init__()\n",
    "        self.model = model.lower()\n",
    "        self.input_size = input_size\n",
    "        self.hidden_size = hidden_size\n",
    "        self.output_size = output_size\n",
    "        self.n_layers = n_layers\n",
    "\n",
    "        self.encoder = nn.Embedding(input_size, hidden_size)\n",
    "        if self.model == \"gru\":\n",
    "            self.rnn = nn.GRU(hidden_size, hidden_size, n_layers)\n",
    "        elif self.model == \"lstm\":\n",
    "            self.rnn = nn.LSTM(hidden_size, hidden_size, n_layers)\n",
    "        self.decoder = nn.Linear(hidden_size, output_size)\n",
    "\n",
    "    def forward(self, input, hidden):\n",
    "        batch_size = input.size(0)\n",
    "        encoded = self.encoder(input)\n",
    "        output, hidden = self.rnn(encoded.view(1, batch_size, -1), hidden)\n",
    "        output = self.decoder(output.view(batch_size, -1))\n",
    "        return output, hidden\n",
    "\n",
    "    def forward2(self, input, hidden):\n",
    "        encoded = self.encoder(input.view(1, -1))\n",
    "        output, hidden = self.rnn(encoded.view(1, 1, -1), hidden)\n",
    "        output = self.decoder(output.view(1, -1))\n",
    "        return output, hidden\n",
    "\n",
    "    def init_hidden(self, batch_size):\n",
    "        if self.model == \"lstm\":\n",
    "            return (Variable(torch.zeros(self.n_layers, batch_size, self.hidden_size)),\n",
    "                    Variable(torch.zeros(self.n_layers, batch_size, self.hidden_size)))\n",
    "        return Variable(torch.zeros(self.n_layers, batch_size, self.hidden_size))"
   ]
  },
  {
   "cell_type": "code",
   "execution_count": 5,
   "metadata": {},
   "outputs": [],
   "source": [
    "filename = \"shakespear.txt\"\n",
    "file, file_len = read_file(filename)\n",
    "lr = 0.01\n",
    "hidden_size = 100\n",
    "n_layers = 2\n",
    "chunk_len = 200\n",
    "batch_size = 100\n",
    "epochs = 2000\n"
   ]
  },
  {
   "cell_type": "code",
   "execution_count": 6,
   "metadata": {},
   "outputs": [],
   "source": [
    "def random_training_set(chunk_len, batch_size):\n",
    "    inp = torch.LongTensor(batch_size, chunk_len)\n",
    "    target = torch.LongTensor(batch_size, chunk_len)\n",
    "    for bi in range(batch_size):\n",
    "        start_index = random.randint(0, file_len - chunk_len)\n",
    "        end_index = start_index + chunk_len + 1\n",
    "        chunk = file[start_index:end_index]\n",
    "        inp[bi] = char_tensor(chunk[:-1])\n",
    "        target[bi] = char_tensor(chunk[1:])\n",
    "    inp = Variable(inp)\n",
    "    target = Variable(target)\n",
    "    inp.to(device)\n",
    "    target.to(device)\n",
    "    return inp, target\n",
    "\n",
    "def train(inp, target):\n",
    "    hidden = decoder.init_hidden(batch_size)\n",
    "    decoder.to(device)\n",
    "    hidden.to(device)\n",
    "    inp.to(device)\n",
    "    decoder.zero_grad()\n",
    "    loss = 0\n",
    "\n",
    "    for c in range(chunk_len):\n",
    "        output, hidden = decoder(inp[:,c].to(device), hidden.to(device))\n",
    "        loss += criterion(output.view(batch_size, -1).to(device), target[:,c].to(device))\n",
    "\n",
    "    loss.backward()\n",
    "    decoder_optimizer.step()\n",
    "\n",
    "    return loss.item() / chunk_len\n",
    "\n",
    "def save():\n",
    "    save_filename = os.path.splitext(os.path.basename(filename))[0] + '.pt'\n",
    "    torch.save(decoder, save_filename)\n",
    "    print('Saved as %s' % save_filename)\n"
   ]
  },
  {
   "cell_type": "code",
   "execution_count": 7,
   "metadata": {},
   "outputs": [],
   "source": [
    "def generate(decoder, prime_str='A', predict_len=100, temperature=0.8):\n",
    "    hidden = decoder.init_hidden(1)\n",
    "    prime_input = Variable(char_tensor(prime_str).unsqueeze(0))\n",
    "\n",
    "    \n",
    "    hidden.to(device)\n",
    "    prime_input.to(device)\n",
    "    decoder.to(device)\n",
    "    predicted = prime_str\n",
    "\n",
    "    # Use priming string to \"build up\" hidden state\n",
    "    for p in range(len(prime_str) - 1):\n",
    "        _, hidden = decoder(prime_input[:,p].to(device), hidden.to(device))\n",
    "        \n",
    "    inp = prime_input[:,-1]\n",
    "    \n",
    "    for p in range(predict_len):\n",
    "        output, hidden = decoder(inp.to(device), hidden.to(device))\n",
    "        \n",
    "        # Sample from the network as a multinomial distribution\n",
    "        output_dist = output.data.view(-1).div(temperature).exp()\n",
    "        top_i = torch.multinomial(output_dist, 1)[0]\n",
    "\n",
    "        # Add predicted character to string and use as next input\n",
    "        predicted_char = all_characters[top_i]\n",
    "        predicted += predicted_char\n",
    "        inp = Variable(char_tensor(predicted_char).unsqueeze(0))\n",
    "        inp.to(device)\n",
    "\n",
    "    return predicted\n"
   ]
  },
  {
   "cell_type": "code",
   "execution_count": 8,
   "metadata": {},
   "outputs": [
    {
     "name": "stdout",
     "output_type": "stream",
     "text": [
      "Training for 2000 epochs...\n"
     ]
    },
    {
     "name": "stderr",
     "output_type": "stream",
     "text": [
      "  5%|▌         | 100/2000 [00:30<10:02,  3.16it/s]"
     ]
    },
    {
     "name": "stdout",
     "output_type": "stream",
     "text": [
      "[0m 30s (100 5%) 1.7257]\n",
      "Which ardnest and and that her with of and the lisless to all the mand's good buty and sir,\n",
      "You somans \n",
      "\n"
     ]
    },
    {
     "name": "stderr",
     "output_type": "stream",
     "text": [
      " 10%|█         | 200/2000 [01:00<09:52,  3.04it/s]"
     ]
    },
    {
     "name": "stdout",
     "output_type": "stream",
     "text": [
      "[1m 0s (200 10%) 1.6021]\n",
      "Why dike an I them of the\n",
      "match the true enougne; bid the maid.\n",
      "\n",
      "ROMEO:\n",
      "And thee my might a tongue, my \n",
      "\n"
     ]
    },
    {
     "name": "stderr",
     "output_type": "stream",
     "text": [
      " 15%|█▌        | 300/2000 [01:30<08:59,  3.15it/s]"
     ]
    },
    {
     "name": "stdout",
     "output_type": "stream",
     "text": [
      "[1m 30s (300 15%) 1.5124]\n",
      "Where the love with himself's-ours!\n",
      "\n",
      "KING EDWARD IV:\n",
      "\n",
      "Lord:\n",
      "A po have head of fie.\n",
      "\n",
      "PRINCE EDWARD:\n",
      "Not \n",
      "\n"
     ]
    },
    {
     "name": "stderr",
     "output_type": "stream",
     "text": [
      " 20%|██        | 400/2000 [01:59<08:08,  3.27it/s]"
     ]
    },
    {
     "name": "stdout",
     "output_type": "stream",
     "text": [
      "[1m 59s (400 20%) 1.4459]\n",
      "Which a lips of them and recovere?\n",
      "\n",
      "MARCIUS:\n",
      "Why, the gracious speak, and gentlecion and the sing,\n",
      "You \n",
      "\n"
     ]
    },
    {
     "name": "stderr",
     "output_type": "stream",
     "text": [
      " 25%|██▌       | 500/2000 [02:29<07:53,  3.17it/s]"
     ]
    },
    {
     "name": "stdout",
     "output_type": "stream",
     "text": [
      "[2m 29s (500 25%) 1.4541]\n",
      "Where we do gundst not to the findly you have send the day,\n",
      "And that sorrow yet better he will cram:\n",
      "W \n",
      "\n"
     ]
    },
    {
     "name": "stderr",
     "output_type": "stream",
     "text": [
      " 30%|███       | 600/2000 [02:59<07:15,  3.22it/s]"
     ]
    },
    {
     "name": "stdout",
     "output_type": "stream",
     "text": [
      "[2m 59s (600 30%) 1.4331]\n",
      "What is not present to our trust on his Lady:\n",
      "That I say you on them to the stobence with her,\n",
      "And we  \n",
      "\n"
     ]
    },
    {
     "name": "stderr",
     "output_type": "stream",
     "text": [
      " 35%|███▌      | 700/2000 [03:29<06:24,  3.38it/s]"
     ]
    },
    {
     "name": "stdout",
     "output_type": "stream",
     "text": [
      "[3m 29s (700 35%) 1.4330]\n",
      "What's a death all sildity with\n",
      "it to the white to summied how too that I would.\n",
      "Then, my lord's broth \n",
      "\n"
     ]
    },
    {
     "name": "stderr",
     "output_type": "stream",
     "text": [
      " 40%|████      | 800/2000 [03:57<05:58,  3.35it/s]"
     ]
    },
    {
     "name": "stdout",
     "output_type": "stream",
     "text": [
      "[3m 57s (800 40%) 1.4010]\n",
      "Whear, never presant; and she professor with and First his way or\n",
      "sirrings of battle daughter,\n",
      "I charr \n",
      "\n"
     ]
    },
    {
     "name": "stderr",
     "output_type": "stream",
     "text": [
      " 45%|████▌     | 900/2000 [04:26<05:21,  3.42it/s]"
     ]
    },
    {
     "name": "stdout",
     "output_type": "stream",
     "text": [
      "[4m 26s (900 45%) 1.4006]\n",
      "Whe did for prove answer us can she request\n",
      "When it it fault, quiet my brother Aufidius,\n",
      "You will you  \n",
      "\n"
     ]
    },
    {
     "name": "stderr",
     "output_type": "stream",
     "text": [
      " 50%|█████     | 1000/2000 [04:55<05:07,  3.25it/s]"
     ]
    },
    {
     "name": "stdout",
     "output_type": "stream",
     "text": [
      "[4m 55s (1000 50%) 1.3955]\n",
      "Whou wert thou did bid his life:\n",
      "What my lorders deyer her would revil the horse when\n",
      "sups for thee, i \n",
      "\n"
     ]
    },
    {
     "name": "stderr",
     "output_type": "stream",
     "text": [
      " 55%|█████▌    | 1100/2000 [05:24<04:25,  3.39it/s]"
     ]
    },
    {
     "name": "stdout",
     "output_type": "stream",
     "text": [
      "[5m 24s (1100 55%) 1.3738]\n",
      "Which he could?\n",
      "\n",
      "ESCALUS:\n",
      "Why, one is such him father.\n",
      "\n",
      "MENENIUS:\n",
      "The flatter, coverful noble friared  \n",
      "\n"
     ]
    },
    {
     "name": "stderr",
     "output_type": "stream",
     "text": [
      " 60%|██████    | 1200/2000 [05:53<04:04,  3.28it/s]"
     ]
    },
    {
     "name": "stdout",
     "output_type": "stream",
     "text": [
      "[5m 53s (1200 60%) 1.3779]\n",
      "Whapon from hold the Lord Warwick,\n",
      "Shook at nine Master the bid him convey:\n",
      "Who was that is partunes t \n",
      "\n"
     ]
    },
    {
     "name": "stderr",
     "output_type": "stream",
     "text": [
      " 65%|██████▌   | 1300/2000 [06:22<03:33,  3.28it/s]"
     ]
    },
    {
     "name": "stdout",
     "output_type": "stream",
     "text": [
      "[6m 22s (1300 65%) 1.3752]\n",
      "What wonder than I prepared\n",
      "This far with mode, let the thought to a bawd.\n",
      "Come, the boy is war and ha \n",
      "\n"
     ]
    },
    {
     "name": "stderr",
     "output_type": "stream",
     "text": [
      " 70%|███████   | 1400/2000 [06:51<03:01,  3.30it/s]"
     ]
    },
    {
     "name": "stdout",
     "output_type": "stream",
     "text": [
      "[6m 51s (1400 70%) 1.3528]\n",
      "Which scrath our love was? had you unknown these\n",
      "here is the death hates to be have done?\n",
      "\n",
      "DUKE OF YOR \n",
      "\n"
     ]
    },
    {
     "name": "stderr",
     "output_type": "stream",
     "text": [
      " 75%|███████▌  | 1500/2000 [07:20<02:38,  3.16it/s]"
     ]
    },
    {
     "name": "stdout",
     "output_type": "stream",
     "text": [
      "[7m 20s (1500 75%) 1.3446]\n",
      "While, magness you?\n",
      "\n",
      "ISABELLA:\n",
      "\n",
      "GLOUCESTER:\n",
      "My lord Mawars is made his return, he and ewel,\n",
      "Which thou \n",
      "\n"
     ]
    },
    {
     "name": "stderr",
     "output_type": "stream",
     "text": [
      " 80%|████████  | 1600/2000 [07:49<02:03,  3.24it/s]"
     ]
    },
    {
     "name": "stdout",
     "output_type": "stream",
     "text": [
      "[7m 49s (1600 80%) 1.3178]\n",
      "Which battle and that to hear, give you.\n",
      "\n",
      "ROMEO:\n",
      "The despair?\n",
      "\n",
      "POLIXENES:\n",
      "Come, and to what know, peat \n",
      "\n"
     ]
    },
    {
     "name": "stderr",
     "output_type": "stream",
     "text": [
      " 85%|████████▌ | 1700/2000 [08:17<01:31,  3.28it/s]"
     ]
    },
    {
     "name": "stdout",
     "output_type": "stream",
     "text": [
      "[8m 17s (1700 85%) 1.3536]\n",
      "What shall appeal common'd that begin,\n",
      "That fetch the senself and thou saugher hours,\n",
      "But captive what \n",
      "\n"
     ]
    },
    {
     "name": "stderr",
     "output_type": "stream",
     "text": [
      " 90%|█████████ | 1800/2000 [08:46<01:05,  3.04it/s]"
     ]
    },
    {
     "name": "stdout",
     "output_type": "stream",
     "text": [
      "[8m 46s (1800 90%) 1.3545]\n",
      "Which is more speak.\n",
      "\n",
      "GREMIO:\n",
      "Where it say you, sweet sign thereby with more?\n",
      "\n",
      "ANTONIO:\n",
      "He should act  \n",
      "\n"
     ]
    },
    {
     "name": "stderr",
     "output_type": "stream",
     "text": [
      " 95%|█████████▌| 1900/2000 [09:15<00:31,  3.16it/s]"
     ]
    },
    {
     "name": "stdout",
     "output_type": "stream",
     "text": [
      "[9m 15s (1900 95%) 1.3687]\n",
      "Whither and his sons!\n",
      "\n",
      "BUCKINGHAM:\n",
      "Why, daughter than one for bastagenous\n",
      "To that you are far to see t \n",
      "\n"
     ]
    },
    {
     "name": "stderr",
     "output_type": "stream",
     "text": [
      "100%|██████████| 2000/2000 [09:45<00:00,  3.41it/s]"
     ]
    },
    {
     "name": "stdout",
     "output_type": "stream",
     "text": [
      "[9m 45s (2000 100%) 1.3445]\n",
      "What he were report for the brieved\n",
      "Thou shalt come over upon Marcius, if I have have restrave.\n",
      "I must \n",
      "\n",
      "Saving...\n",
      "Saved as shakespear.pt\n"
     ]
    },
    {
     "name": "stderr",
     "output_type": "stream",
     "text": [
      "\n"
     ]
    }
   ],
   "source": [
    "decoder = CharRNN(\n",
    "    n_characters,\n",
    "    hidden_size,\n",
    "    n_characters,\n",
    "    n_layers=n_layers,\n",
    ")\n",
    "decoder_optimizer = torch.optim.Adam(decoder.parameters(), lr=lr)\n",
    "criterion = nn.CrossEntropyLoss()\n",
    "\n",
    "decoder.to(device)\n",
    "\n",
    "start = time.time()\n",
    "all_losses = []\n",
    "loss_avg = 0\n",
    "\n",
    "try:\n",
    "    print(\"Training for %d epochs...\" % epochs)\n",
    "    for epoch in tqdm(range(1, epochs + 1)):\n",
    "        loss = train(*random_training_set(chunk_len, batch_size))\n",
    "        loss_avg += loss\n",
    "        all_losses.append(loss)\n",
    "        \n",
    "        if epoch % 100 == 0:\n",
    "            print('[%s (%d %d%%) %.4f]' % (time_since(start), epoch, epoch / epochs * 100, loss))\n",
    "            print(generate(decoder.to(device), 'Wh', 100), '\\n')\n",
    "\n",
    "    print(\"Saving...\")\n",
    "    save()\n",
    "\n",
    "except KeyboardInterrupt:\n",
    "    print(\"Saving before quit...\")\n",
    "    save()"
   ]
  },
  {
   "cell_type": "code",
   "execution_count": 12,
   "metadata": {},
   "outputs": [],
   "source": [
    "perplexities = [math.exp(lossitem) for lossitem in all_losses]"
   ]
  },
  {
   "cell_type": "code",
   "execution_count": 13,
   "metadata": {},
   "outputs": [
    {
     "data": {
      "text/plain": [
       "[<matplotlib.lines.Line2D at 0x265c32034f0>]"
      ]
     },
     "execution_count": 13,
     "metadata": {},
     "output_type": "execute_result"
    },
    {
     "data": {
      "image/png": "[encoded data removed]",
      "text/plain": [
       "<Figure size 432x288 with 1 Axes>"
      ]
     },
     "metadata": {
      "needs_background": "light"
     },
     "output_type": "display_data"
    }
   ],
   "source": [
    "import matplotlib.pyplot as plt\n",
    "\n",
    "fig, ax = plt.subplots()\n",
    "ax.set_xlabel(\"Epoch\")\n",
    "ax.set_ylabel(\"Perplexity\")\n",
    "\n",
    "ax.set_title(\"Perplexity vs Epochs\")\n",
    "\n",
    "ax.plot(range(1,epochs+1), perplexities, label=\"Perplexity\")"
   ]
  },
  {
   "cell_type": "code",
   "execution_count": 29,
   "metadata": {},
   "outputs": [
    {
     "name": "stdout",
     "output_type": "stream",
     "text": [
      "ztgAK \n",
      " ztgAKn as it since any to know\n",
      "When it is done much me arms.\n",
      "\n",
      "PETRUCHIO:\n",
      "The month as he cannot restrain  \n",
      "\n",
      "xQKzm \n",
      " xQKzmen shall prove\n",
      "Rest this durreal that he such seat, and done you\n",
      "I goess away\n",
      "Thou shalt be entray i \n",
      "\n",
      "xMHzw \n",
      " xMHzwear the fair sirnected\n",
      "Live all their common that farewell: and I would he would\n",
      "And then from the c \n",
      "\n"
     ]
    }
   ],
   "source": [
    "import random\n",
    "import string\n",
    "\n",
    "def get_random_string(length):\n",
    "    result_str = ''.join(random.choice(string.ascii_letters + string.digits + ' ') for i in range(length))\n",
    "\n",
    "    return result_str\n",
    "\n",
    "\n",
    "ranstr = get_random_string(5)\n",
    "print(ranstr, '\\n', generate(decoder.to(device), ranstr, 100), '\\n')\n",
    "ranstr = get_random_string(5)\n",
    "print(ranstr, '\\n', generate(decoder.to(device), ranstr, 100), '\\n')\n",
    "ranstr = get_random_string(5)\n",
    "print(ranstr, '\\n', generate(decoder.to(device), ranstr, 100), '\\n')"
   ]
  },
  {
   "cell_type": "code",
   "execution_count": 30,
   "metadata": {},
   "outputs": [
    {
     "name": "stdout",
     "output_type": "stream",
     "text": [
      "The \n",
      " The sunners thy mother to make you and shack\n",
      "Because upon me and seems your sucks, and I may risonus,\n",
      "T \n",
      "\n",
      "What is \n",
      " What is and corret?\n",
      "\n",
      "FRIAR LAURENCE:\n",
      "Thy hieved from heavetry seen for my wrong;\n",
      "Let me a rumiss in find by \n",
      "\n",
      "Shall I give \n",
      " Shall I give me then that you have there I be\n",
      "reast now the lets than but the sunsome again:\n",
      "I should strike me  \n",
      "\n",
      "X087hNYB BHN BYFVuhsdbs \n",
      " X087hNYB BHN BYFVuhsdbs\n",
      "And till you devil in the captain an ear:\n",
      "Take thee gentleman discommbed raped.\n",
      "\n",
      "LEONTES:\n",
      "And more  \n",
      "\n"
     ]
    }
   ],
   "source": [
    "ranstr = 'The'\n",
    "print(ranstr, '\\n', generate(decoder.to(device), ranstr, 100), '\\n')\n",
    "ranstr = 'What is'\n",
    "print(ranstr, '\\n', generate(decoder.to(device), ranstr, 100), '\\n')\n",
    "ranstr = 'Shall I give'\n",
    "print(ranstr, '\\n', generate(decoder.to(device), ranstr, 100), '\\n')\n",
    "ranstr = 'X087hNYB BHN BYFVuhsdbs'\n",
    "print(ranstr, '\\n', generate(decoder.to(device), ranstr, 100), '\\n')"
   ]
  }
 ],
 "metadata": {
  "interpreter": {
   "hash": "b3ba2566441a7c06988d0923437866b63cedc61552a5af99d1f4fb67d367b25f"
  },
  "kernelspec": {
   "display_name": "Python 3.9.7 ('base')",
   "language": "python",
   "name": "python3"
  },
  "language_info": {
   "codemirror_mode": {
    "name": "ipython",
    "version": 3
   },
   "file_extension": ".py",
   "mimetype": "text/x-python",
   "name": "python",
   "nbconvert_exporter": "python",
   "pygments_lexer": "ipython3",
   "version": "3.9.7"
  },
  "orig_nbformat": 4
 },
 "nbformat": 4,
 "nbformat_minor": 2
}
