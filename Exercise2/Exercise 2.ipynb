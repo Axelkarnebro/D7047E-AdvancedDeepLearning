{
 "cells": [
  {
   "cell_type": "code",
   "execution_count": 2,
   "metadata": {
    "datalore": {
     "hide_input_from_viewers": false,
     "hide_output_from_viewers": false,
     "type": "CODE"
    }
   },
   "outputs": [],
   "source": [
    "import torch\n",
    "import torchvision\n",
    "import numpy as np\n",
    "import matplotlib.pyplot as plt\n",
    "from torchvision.transforms import ToTensor\n",
    "from torchvision.transforms import transforms\n",
    "from torch.utils.data import DataLoader\n",
    "from torch import nn\n",
    "device = torch.device('cuda' if torch.cuda.is_available() else 'cpu')"
   ]
  },
  {
   "cell_type": "code",
   "execution_count": 15,
   "metadata": {
    "datalore": {
     "hide_input_from_viewers": false,
     "hide_output_from_viewers": false,
     "type": "CODE"
    }
   },
   "outputs": [
    {
     "name": "stderr",
     "output_type": "stream",
     "text": [
      "Using cache found in C:\\Users\\axelk/.cache\\torch\\hub\\pytorch_vision_v0.10.0\n"
     ]
    },
    {
     "name": "stdout",
     "output_type": "stream",
     "text": [
      "Sequential(\n",
      "  (0): AlexNet(\n",
      "    (features): Sequential(\n",
      "      (0): Conv2d(3, 64, kernel_size=(11, 11), stride=(4, 4), padding=(2, 2))\n",
      "      (1): ReLU(inplace=True)\n",
      "      (2): MaxPool2d(kernel_size=3, stride=2, padding=0, dilation=1, ceil_mode=False)\n",
      "      (3): Conv2d(64, 192, kernel_size=(5, 5), stride=(1, 1), padding=(2, 2))\n",
      "      (4): ReLU(inplace=True)\n",
      "      (5): MaxPool2d(kernel_size=3, stride=2, padding=0, dilation=1, ceil_mode=False)\n",
      "      (6): Conv2d(192, 384, kernel_size=(3, 3), stride=(1, 1), padding=(1, 1))\n",
      "      (7): ReLU(inplace=True)\n",
      "      (8): Conv2d(384, 256, kernel_size=(3, 3), stride=(1, 1), padding=(1, 1))\n",
      "      (9): ReLU(inplace=True)\n",
      "      (10): Conv2d(256, 256, kernel_size=(3, 3), stride=(1, 1), padding=(1, 1))\n",
      "      (11): ReLU(inplace=True)\n",
      "      (12): MaxPool2d(kernel_size=3, stride=2, padding=0, dilation=1, ceil_mode=False)\n",
      "    )\n",
      "    (avgpool): AdaptiveAvgPool2d(output_size=(6, 6))\n",
      "    (classifier): Sequential(\n",
      "      (0): Dropout(p=0.5, inplace=False)\n",
      "      (1): Linear(in_features=9216, out_features=4096, bias=True)\n",
      "      (2): ReLU(inplace=True)\n",
      "      (3): Dropout(p=0.5, inplace=False)\n",
      "      (4): Linear(in_features=4096, out_features=4096, bias=True)\n",
      "      (5): ReLU(inplace=True)\n",
      "      (6): Linear(in_features=4096, out_features=1000, bias=True)\n",
      "    )\n",
      "  )\n",
      "  (1): ReLU()\n",
      "  (2): Linear(in_features=1000, out_features=10, bias=True)\n",
      ")\n"
     ]
    },
    {
     "name": "stderr",
     "output_type": "stream",
     "text": [
      "Using cache found in C:\\Users\\axelk/.cache\\torch\\hub\\pytorch_vision_v0.10.0\n"
     ]
    },
    {
     "name": "stdout",
     "output_type": "stream",
     "text": [
      "Sequential(\n",
      "  (0): AlexNet(\n",
      "    (features): Sequential(\n",
      "      (0): Conv2d(3, 64, kernel_size=(11, 11), stride=(4, 4), padding=(2, 2))\n",
      "      (1): ReLU(inplace=True)\n",
      "      (2): MaxPool2d(kernel_size=3, stride=2, padding=0, dilation=1, ceil_mode=False)\n",
      "      (3): Conv2d(64, 192, kernel_size=(5, 5), stride=(1, 1), padding=(2, 2))\n",
      "      (4): ReLU(inplace=True)\n",
      "      (5): MaxPool2d(kernel_size=3, stride=2, padding=0, dilation=1, ceil_mode=False)\n",
      "      (6): Conv2d(192, 384, kernel_size=(3, 3), stride=(1, 1), padding=(1, 1))\n",
      "      (7): ReLU(inplace=True)\n",
      "      (8): Conv2d(384, 256, kernel_size=(3, 3), stride=(1, 1), padding=(1, 1))\n",
      "      (9): ReLU(inplace=True)\n",
      "      (10): Conv2d(256, 256, kernel_size=(3, 3), stride=(1, 1), padding=(1, 1))\n",
      "      (11): ReLU(inplace=True)\n",
      "      (12): MaxPool2d(kernel_size=3, stride=2, padding=0, dilation=1, ceil_mode=False)\n",
      "    )\n",
      "    (avgpool): AdaptiveAvgPool2d(output_size=(6, 6))\n",
      "    (classifier): Sequential(\n",
      "      (0): Dropout(p=0.5, inplace=False)\n",
      "      (1): Linear(in_features=9216, out_features=4096, bias=True)\n",
      "      (2): ReLU(inplace=True)\n",
      "      (3): Dropout(p=0.5, inplace=False)\n",
      "      (4): Linear(in_features=4096, out_features=4096, bias=True)\n",
      "      (5): ReLU(inplace=True)\n",
      "      (6): Linear(in_features=4096, out_features=1000, bias=True)\n",
      "    )\n",
      "  )\n",
      "  (1): ReLU()\n",
      "  (2): Linear(in_features=1000, out_features=10, bias=True)\n",
      ")\n",
      "False\n",
      "False\n",
      "False\n",
      "False\n",
      "False\n",
      "False\n",
      "False\n",
      "False\n",
      "False\n",
      "False\n",
      "False\n",
      "False\n",
      "False\n",
      "False\n",
      "False\n",
      "False\n",
      "True\n",
      "True\n"
     ]
    }
   ],
   "source": [
    "modelUT = torch.hub.load('pytorch/vision:v0.10.0', 'alexnet', pretrained=False)\n",
    "modelUT = nn.Sequential(\n",
    "    modelUT,\n",
    "    nn.ReLU(),\n",
    "    nn.Linear(1000, 10)\n",
    ")\n",
    "print(modelUT.eval())\n",
    "modelUT.to(device)\n",
    "\n",
    "modelPT = torch.hub.load('pytorch/vision:v0.10.0', 'alexnet', pretrained=True)\n",
    "for p in modelPT.parameters():\n",
    "    p.requires_grad = False\n",
    "\n",
    "modelPT = nn.Sequential(\n",
    "    modelPT,\n",
    "    nn.ReLU(),\n",
    "    nn.Linear(1000, 10)\n",
    ")\n",
    "print(modelPT.eval())\n",
    "modelPT.to(device)\n",
    "\n",
    "for p in modelPT.parameters():\n",
    "    print(p.requires_grad)\n"
   ]
  },
  {
   "cell_type": "code",
   "execution_count": 4,
   "metadata": {
    "datalore": {
     "hide_input_from_viewers": false,
     "hide_output_from_viewers": false,
     "type": "CODE"
    }
   },
   "outputs": [
    {
     "name": "stdout",
     "output_type": "stream",
     "text": [
      "Files already downloaded and verified\n",
      "Files already downloaded and verified\n"
     ]
    }
   ],
   "source": [
    "transform = transforms.Compose([\n",
    "    transforms.Resize(64),\n",
    "    #transforms.CenterCrop(64),\n",
    "    transforms.ToTensor(),\n",
    "    #transforms.Normalize([0.485, 0.456, 0.406], [0.229, 0.224, 0.225])\n",
    "])\n",
    "\n",
    "train_data = torchvision.datasets.CIFAR10(\n",
    "    train=True,\n",
    "    root=\"data\",\n",
    "    download=True,\n",
    "    transform=transform\n",
    ")\n",
    "test_data = torchvision.datasets.CIFAR10(\n",
    "    train=False,\n",
    "    root=\"data\",\n",
    "    download=True,\n",
    "    transform=transform\n",
    ")\n",
    "train_set = DataLoader(train_data, batch_size=64, shuffle=True)\n",
    "test_set = DataLoader(test_data, batch_size=64, shuffle=False)"
   ]
  },
  {
   "cell_type": "code",
   "execution_count": 62,
   "metadata": {
    "datalore": {
     "hide_input_from_viewers": false,
     "hide_output_from_viewers": false,
     "type": "CODE"
    }
   },
   "outputs": [],
   "source": [
    "epochs = 10\n",
    "\n",
    "def train_model(model, loader):\n",
    "    criterion = nn.CrossEntropyLoss()\n",
    "    optimizer = torch.optim.SGD(params = model.parameters(), lr = 0.01)\n",
    "    for epoch in range(epochs):\n",
    "        #print(f\"epoch: {epoch + 1}\")\n",
    "        run_loss = 0.0\n",
    "        model.train(True)\n",
    "\n",
    "        for batch_nr, (data, labels) in enumerate(loader):\n",
    "            data = data.to(device)\n",
    "            labels = labels.to(device)\n",
    "            optimizer.zero_grad()\n",
    "\n",
    "            prediction = model(data)\n",
    "\n",
    "            loss = criterion(prediction, labels)\n",
    "\n",
    "            loss.backward()\n",
    "\n",
    "            optimizer.step()\n",
    "\n",
    "            \n",
    "\n",
    "            run_loss += loss.item()\n",
    "\n",
    "        print(\"[%d, %5d], loss: %.3f \" % (epoch + 1, batch_nr + 1, run_loss / (batch_nr + 1)))\n",
    "    return model"
   ]
  },
  {
   "cell_type": "code",
   "execution_count": 39,
   "metadata": {
    "datalore": {
     "hide_input_from_viewers": false,
     "hide_output_from_viewers": false,
     "type": "CODE"
    }
   },
   "outputs": [
    {
     "name": "stdout",
     "output_type": "stream",
     "text": [
      "[1,   782], loss: 1.878 \n",
      "[2,   782], loss: 1.858 \n",
      "[3,   782], loss: 1.841 \n",
      "[4,   782], loss: 1.819 \n",
      "[5,   782], loss: 1.742 \n",
      "[6,   782], loss: 1.638 \n",
      "[7,   782], loss: 1.572 \n",
      "[8,   782], loss: 1.519 \n",
      "[9,   782], loss: 1.460 \n",
      "[10,   782], loss: 1.399 \n",
      "[11,   782], loss: 1.336 \n",
      "[12,   782], loss: 1.275 \n",
      "[13,   782], loss: 1.197 \n",
      "[14,   782], loss: 1.129 \n",
      "[15,   782], loss: 1.080 \n",
      "[16,   782], loss: 1.022 \n",
      "[17,   782], loss: 0.971 \n",
      "[18,   782], loss: 0.916 \n",
      "[19,   782], loss: 0.874 \n",
      "[20,   782], loss: 0.812 \n",
      "[21,   782], loss: 0.766 \n",
      "[22,   782], loss: 0.715 \n",
      "[23,   782], loss: 0.662 \n",
      "[24,   782], loss: 0.618 \n",
      "[25,   782], loss: 0.574 \n",
      "[26,   782], loss: 0.529 \n",
      "[27,   782], loss: 0.479 \n",
      "[28,   782], loss: 0.439 \n",
      "[29,   782], loss: 0.389 \n",
      "[30,   782], loss: 0.347 \n",
      "[31,   782], loss: 0.318 \n",
      "[32,   782], loss: 0.283 \n",
      "[33,   782], loss: 0.263 \n",
      "[34,   782], loss: 0.217 \n",
      "[35,   782], loss: 0.188 \n",
      "[36,   782], loss: 0.169 \n",
      "[37,   782], loss: 0.149 \n",
      "[38,   782], loss: 0.137 \n",
      "[39,   782], loss: 0.117 \n",
      "[40,   782], loss: 0.112 \n",
      "[41,   782], loss: 0.094 \n",
      "[42,   782], loss: 0.097 \n",
      "[43,   782], loss: 0.084 \n",
      "[44,   782], loss: 0.067 \n",
      "[45,   782], loss: 0.061 \n",
      "[46,   782], loss: 0.068 \n",
      "[47,   782], loss: 0.059 \n",
      "[48,   782], loss: 0.046 \n",
      "[49,   782], loss: 0.042 \n",
      "[50,   782], loss: 0.057 \n",
      "[51,   782], loss: 0.037 \n",
      "[52,   782], loss: 0.052 \n",
      "[53,   782], loss: 0.056 \n",
      "[54,   782], loss: 0.018 \n",
      "[55,   782], loss: 0.021 \n",
      "[56,   782], loss: 0.070 \n",
      "[57,   782], loss: 0.023 \n",
      "[58,   782], loss: 0.019 \n",
      "[59,   782], loss: 0.024 \n",
      "[60,   782], loss: 0.053 \n"
     ]
    }
   ],
   "source": [
    "trainedUT = train_model(modelUT, train_set)"
   ]
  },
  {
   "cell_type": "code",
   "execution_count": 16,
   "metadata": {},
   "outputs": [
    {
     "name": "stdout",
     "output_type": "stream",
     "text": [
      "[1,   782], loss: 3.090 \n",
      "[2,   782], loss: 2.633 \n",
      "[3,   782], loss: 2.584 \n",
      "[4,   782], loss: 2.427 \n",
      "[5,   782], loss: 2.497 \n",
      "[6,   782], loss: 2.431 \n",
      "[7,   782], loss: 2.442 \n",
      "[8,   782], loss: 2.392 \n",
      "[9,   782], loss: 2.420 \n",
      "[10,   782], loss: 2.411 \n",
      "[11,   782], loss: 2.366 \n",
      "[12,   782], loss: 2.414 \n",
      "[13,   782], loss: 2.414 \n",
      "[14,   782], loss: 2.360 \n",
      "[15,   782], loss: 2.356 \n",
      "[16,   782], loss: 2.311 \n",
      "[17,   782], loss: 2.326 \n",
      "[18,   782], loss: 2.342 \n",
      "[19,   782], loss: 2.356 \n",
      "[20,   782], loss: 2.325 \n",
      "[21,   782], loss: 2.339 \n",
      "[22,   782], loss: 2.317 \n",
      "[23,   782], loss: 2.361 \n",
      "[24,   782], loss: 2.300 \n",
      "[25,   782], loss: 2.326 \n",
      "[26,   782], loss: 2.302 \n",
      "[27,   782], loss: 2.325 \n",
      "[28,   782], loss: 2.313 \n",
      "[29,   782], loss: 2.287 \n",
      "[30,   782], loss: 2.332 \n",
      "[31,   782], loss: 2.282 \n",
      "[32,   782], loss: 2.296 \n",
      "[33,   782], loss: 2.279 \n",
      "[34,   782], loss: 2.341 \n",
      "[35,   782], loss: 2.324 \n",
      "[36,   782], loss: 2.273 \n",
      "[37,   782], loss: 2.335 \n",
      "[38,   782], loss: 2.322 \n",
      "[39,   782], loss: 2.360 \n",
      "[40,   782], loss: 2.286 \n",
      "[41,   782], loss: 2.330 \n",
      "[42,   782], loss: 2.275 \n",
      "[43,   782], loss: 2.293 \n",
      "[44,   782], loss: 2.291 \n",
      "[45,   782], loss: 2.319 \n",
      "[46,   782], loss: 2.317 \n",
      "[47,   782], loss: 2.229 \n",
      "[48,   782], loss: 2.342 \n",
      "[49,   782], loss: 2.297 \n",
      "[50,   782], loss: 2.267 \n",
      "[51,   782], loss: 2.311 \n",
      "[52,   782], loss: 2.313 \n",
      "[53,   782], loss: 2.319 \n",
      "[54,   782], loss: 2.328 \n",
      "[55,   782], loss: 2.307 \n",
      "[56,   782], loss: 2.284 \n",
      "[57,   782], loss: 2.322 \n",
      "[58,   782], loss: 2.254 \n",
      "[59,   782], loss: 2.273 \n",
      "[60,   782], loss: 2.326 \n"
     ]
    }
   ],
   "source": [
    "trainedPT = train_model(modelPT, train_set)"
   ]
  },
  {
   "cell_type": "code",
   "execution_count": 17,
   "metadata": {},
   "outputs": [],
   "source": [
    "torch.save(trainedUT.state_dict(), \"./Exercise2/trainedUT\")\n",
    "torch.save(trainedPT.state_dict(), \"./Exercise2/trainedPT\")"
   ]
  },
  {
   "cell_type": "code",
   "execution_count": 18,
   "metadata": {},
   "outputs": [
    {
     "data": {
      "text/plain": [
       "<All keys matched successfully>"
      ]
     },
     "execution_count": 18,
     "metadata": {},
     "output_type": "execute_result"
    }
   ],
   "source": [
    "modelUT.load_state_dict(torch.load(\"./Exercise2/trainedUT\"))\n",
    "modelPT.load_state_dict(torch.load(\"./Exercise2/trainedPT\"))"
   ]
  },
  {
   "cell_type": "code",
   "execution_count": 20,
   "metadata": {},
   "outputs": [],
   "source": [
    "def accuracy(model, loader):\n",
    "    correct = 0\n",
    "    all = 0\n",
    "    with torch.no_grad():\n",
    "        for batch_nr,(data,label) in enumerate(loader):\n",
    "            data = data.to(device)\n",
    "            label = label.to(device)\n",
    "            pred = model(data)\n",
    "\n",
    "            correct += (torch.argmax(pred,1)== label).sum()\n",
    "            \n",
    "            all += (label.size(0))\n",
    "    return correct / all"
   ]
  },
  {
   "cell_type": "code",
   "execution_count": 21,
   "metadata": {},
   "outputs": [
    {
     "name": "stdout",
     "output_type": "stream",
     "text": [
      "Not pre-trained:  tensor(0.6927, device='cuda:0')  Pre-trained:  tensor(0.4099, device='cuda:0')\n"
     ]
    }
   ],
   "source": [
    "accUT = accuracy(modelUT, test_set)\n",
    "accPT = accuracy(modelPT, test_set)\n",
    "\n",
    "print(\"Not pre-trained: \", accUT, \" Pre-trained: \", accPT)"
   ]
  },
  {
   "cell_type": "code",
   "execution_count": 57,
   "metadata": {
    "datalore": {
     "hide_input_from_viewers": false,
     "hide_output_from_viewers": false,
     "type": "CODE"
    }
   },
   "outputs": [
    {
     "name": "stderr",
     "output_type": "stream",
     "text": [
      "Using cache found in C:\\Users\\axelk/.cache\\torch\\hub\\pytorch_vision_v0.10.0\n"
     ]
    },
    {
     "data": {
      "text/plain": [
       "Sequential(\n",
       "  (0): VGG(\n",
       "    (features): Sequential(\n",
       "      (0): Conv2d(3, 64, kernel_size=(3, 3), stride=(1, 1), padding=(1, 1))\n",
       "      (1): ReLU(inplace=True)\n",
       "      (2): Conv2d(64, 64, kernel_size=(3, 3), stride=(1, 1), padding=(1, 1))\n",
       "      (3): ReLU(inplace=True)\n",
       "      (4): MaxPool2d(kernel_size=2, stride=2, padding=0, dilation=1, ceil_mode=False)\n",
       "      (5): Conv2d(64, 128, kernel_size=(3, 3), stride=(1, 1), padding=(1, 1))\n",
       "      (6): ReLU(inplace=True)\n",
       "      (7): Conv2d(128, 128, kernel_size=(3, 3), stride=(1, 1), padding=(1, 1))\n",
       "      (8): ReLU(inplace=True)\n",
       "      (9): MaxPool2d(kernel_size=2, stride=2, padding=0, dilation=1, ceil_mode=False)\n",
       "      (10): Conv2d(128, 256, kernel_size=(3, 3), stride=(1, 1), padding=(1, 1))\n",
       "      (11): ReLU(inplace=True)\n",
       "      (12): Conv2d(256, 256, kernel_size=(3, 3), stride=(1, 1), padding=(1, 1))\n",
       "      (13): ReLU(inplace=True)\n",
       "      (14): Conv2d(256, 256, kernel_size=(3, 3), stride=(1, 1), padding=(1, 1))\n",
       "      (15): ReLU(inplace=True)\n",
       "      (16): Conv2d(256, 256, kernel_size=(3, 3), stride=(1, 1), padding=(1, 1))\n",
       "      (17): ReLU(inplace=True)\n",
       "      (18): MaxPool2d(kernel_size=2, stride=2, padding=0, dilation=1, ceil_mode=False)\n",
       "      (19): Conv2d(256, 512, kernel_size=(3, 3), stride=(1, 1), padding=(1, 1))\n",
       "      (20): ReLU(inplace=True)\n",
       "      (21): Conv2d(512, 512, kernel_size=(3, 3), stride=(1, 1), padding=(1, 1))\n",
       "      (22): ReLU(inplace=True)\n",
       "      (23): Conv2d(512, 512, kernel_size=(3, 3), stride=(1, 1), padding=(1, 1))\n",
       "      (24): ReLU(inplace=True)\n",
       "      (25): Conv2d(512, 512, kernel_size=(3, 3), stride=(1, 1), padding=(1, 1))\n",
       "      (26): ReLU(inplace=True)\n",
       "      (27): MaxPool2d(kernel_size=2, stride=2, padding=0, dilation=1, ceil_mode=False)\n",
       "      (28): Conv2d(512, 512, kernel_size=(3, 3), stride=(1, 1), padding=(1, 1))\n",
       "      (29): ReLU(inplace=True)\n",
       "      (30): Conv2d(512, 512, kernel_size=(3, 3), stride=(1, 1), padding=(1, 1))\n",
       "      (31): ReLU(inplace=True)\n",
       "      (32): Conv2d(512, 512, kernel_size=(3, 3), stride=(1, 1), padding=(1, 1))\n",
       "      (33): ReLU(inplace=True)\n",
       "      (34): Conv2d(512, 512, kernel_size=(3, 3), stride=(1, 1), padding=(1, 1))\n",
       "      (35): ReLU(inplace=True)\n",
       "      (36): MaxPool2d(kernel_size=2, stride=2, padding=0, dilation=1, ceil_mode=False)\n",
       "    )\n",
       "    (avgpool): AdaptiveAvgPool2d(output_size=(7, 7))\n",
       "    (classifier): Sequential(\n",
       "      (0): Linear(in_features=25088, out_features=4096, bias=True)\n",
       "      (1): ReLU(inplace=True)\n",
       "      (2): Dropout(p=0.5, inplace=False)\n",
       "      (3): Linear(in_features=4096, out_features=4096, bias=True)\n",
       "      (4): ReLU(inplace=True)\n",
       "      (5): Dropout(p=0.5, inplace=False)\n",
       "      (6): Linear(in_features=4096, out_features=1000, bias=True)\n",
       "    )\n",
       "  )\n",
       "  (1): ReLU()\n",
       "  (2): Linear(in_features=1000, out_features=10, bias=True)\n",
       ")"
      ]
     },
     "execution_count": 57,
     "metadata": {},
     "output_type": "execute_result"
    }
   ],
   "source": [
    "modelCNN = nn.Sequential(\n",
    "    nn.Conv2d(in_channels=1,out_channels=6,kernel_size=3, padding='same'),\n",
    "    nn.LeakyReLU(),\n",
    "    nn.MaxPool2d(kernel_size=2, stride=(2,2)),\n",
    "    nn.Conv2d(in_channels=6,out_channels=6,kernel_size=3),\n",
    "    nn.LeakyReLU(),\n",
    "    nn.MaxPool2d(kernel_size=2, stride=(2,2)),\n",
    "    nn.Flatten(),\n",
    "    nn.Linear(6*6*6, 10),\n",
    "    nn.Softmax(1)\n",
    ")\n",
    "\n",
    "modelCNN.to(device)\n",
    "\n",
    "modelVGG = torch.hub.load('pytorch/vision:v0.10.0', 'vgg19', pretrained=False)\n",
    "modelVGG = nn.Sequential(\n",
    "    modelVGG,\n",
    "    nn.ReLU(),\n",
    "    nn.Linear(1000, 10)\n",
    ")\n",
    "modelVGG.to(device)\n",
    "\n"
   ]
  },
  {
   "cell_type": "code",
   "execution_count": 60,
   "metadata": {
    "datalore": {
     "hide_input_from_viewers": false,
     "hide_output_from_viewers": false,
     "type": "CODE"
    }
   },
   "outputs": [],
   "source": [
    "transformMNIST = transforms.Compose([\n",
    "    transforms.Resize(32),\n",
    "    transforms.Grayscale(num_output_channels=3),\n",
    "    transforms.ToTensor(),\n",
    "    #transforms.Normalize([0.485, 0.456, 0.406], [0.229, 0.224, 0.225])\n",
    "])\n",
    "\n",
    "train_dataMNIST = torchvision.datasets.MNIST(\n",
    "    train=True,\n",
    "    root=\"data\",\n",
    "    download=True,\n",
    "    transform=transformMNIST\n",
    ")\n",
    "test_dataMNIST = torchvision.datasets.MNIST(\n",
    "    train=False,\n",
    "    root=\"data\",\n",
    "    download=True,\n",
    "    transform=transformMNIST\n",
    ")\n",
    "train_setMNIST = DataLoader(train_dataMNIST, batch_size=64, shuffle=True)\n",
    "test_setMNIST = DataLoader(test_dataMNIST, batch_size=64, shuffle=False)"
   ]
  },
  {
   "cell_type": "code",
   "execution_count": 40,
   "metadata": {},
   "outputs": [
    {
     "name": "stdout",
     "output_type": "stream",
     "text": [
      "torch.Size([1, 28, 28])\n"
     ]
    },
    {
     "data": {
      "text/plain": [
       "<matplotlib.image.AxesImage at 0x227f4e74f40>"
      ]
     },
     "execution_count": 40,
     "metadata": {},
     "output_type": "execute_result"
    },
    {
     "data": {
      "image/png": "[encoded data removed]",
      "text/plain": [
       "<Figure size 432x288 with 1 Axes>"
      ]
     },
     "metadata": {
      "needs_background": "light"
     },
     "output_type": "display_data"
    }
   ],
   "source": [
    "dataiter = iter(train_setMNIST)\n",
    "\n",
    "images, labels = dataiter.next()\n",
    "img = images[0].numpy()\n",
    "print(images[0].shape)\n",
    "img = np.transpose(img, (1,2,0))\n",
    "plt.imshow(img)"
   ]
  },
  {
   "cell_type": "code",
   "execution_count": 63,
   "metadata": {},
   "outputs": [
    {
     "name": "stdout",
     "output_type": "stream",
     "text": [
      "[1,   938], loss: 0.064 \n",
      "[2,   938], loss: 0.049 \n",
      "[3,   938], loss: 0.039 \n",
      "[4,   938], loss: 0.030 \n",
      "[5,   938], loss: 0.025 \n",
      "[6,   938], loss: 0.020 \n",
      "[7,   938], loss: 0.016 \n",
      "[8,   938], loss: 0.013 \n",
      "[9,   938], loss: 0.011 \n",
      "[10,   938], loss: 0.010 \n"
     ]
    }
   ],
   "source": [
    "trainedMNIST = train_model(modelVGG, train_setMNIST)"
   ]
  },
  {
   "cell_type": "code",
   "execution_count": 64,
   "metadata": {},
   "outputs": [],
   "source": [
    "torch.save(trainedMNIST.state_dict(), \"./Exercise2/trainedVGG\")"
   ]
  },
  {
   "cell_type": "code",
   "execution_count": 50,
   "metadata": {},
   "outputs": [
    {
     "data": {
      "text/plain": [
       "<All keys matched successfully>"
      ]
     },
     "execution_count": 50,
     "metadata": {},
     "output_type": "execute_result"
    }
   ],
   "source": [
    "modelCNN.load_state_dict(torch.load(\"./Exercise2/trainedMNIST\"))"
   ]
  },
  {
   "cell_type": "code",
   "execution_count": 65,
   "metadata": {},
   "outputs": [
    {
     "name": "stdout",
     "output_type": "stream",
     "text": [
      "tensor(0.9918, device='cuda:0')\n"
     ]
    }
   ],
   "source": [
    "accMNIST = accuracy(trainedMNIST, test_setMNIST)\n",
    "print(accMNIST)"
   ]
  },
  {
   "cell_type": "code",
   "execution_count": 66,
   "metadata": {},
   "outputs": [
    {
     "name": "stdout",
     "output_type": "stream",
     "text": [
      "Using downloaded and verified file: data\\train_32x32.mat\n",
      "Using downloaded and verified file: data\\test_32x32.mat\n"
     ]
    }
   ],
   "source": [
    "transformSVHN = transforms.Compose([\n",
    "    transforms.Resize(28),\n",
    "    transforms.Grayscale(num_output_channels=1),\n",
    "    transforms.ToTensor(),\n",
    "    #transforms.Normalize([0.485, 0.456, 0.406], [0.229, 0.224, 0.225])\n",
    "])\n",
    "\n",
    "train_dataSVHN = torchvision.datasets.SVHN(\n",
    "    split=\"train\",\n",
    "    root=\"data\",\n",
    "    download=True,\n",
    "    transform=ToTensor()\n",
    ")\n",
    "test_dataSVHN = torchvision.datasets.SVHN(\n",
    "    split=\"test\",\n",
    "    root=\"data\",\n",
    "    download=True,\n",
    "    transform=ToTensor()\n",
    ")\n",
    "train_setSVHN = DataLoader(train_dataSVHN, batch_size=64, shuffle=True)\n",
    "test_setSVHN = DataLoader(test_dataSVHN, batch_size=64, shuffle=False)"
   ]
  },
  {
   "cell_type": "code",
   "execution_count": 81,
   "metadata": {},
   "outputs": [
    {
     "data": {
      "text/plain": [
       "Sequential(\n",
       "  (0): VGG(\n",
       "    (features): Sequential(\n",
       "      (0): Conv2d(3, 64, kernel_size=(3, 3), stride=(1, 1), padding=(1, 1))\n",
       "      (1): ReLU(inplace=True)\n",
       "      (2): Conv2d(64, 64, kernel_size=(3, 3), stride=(1, 1), padding=(1, 1))\n",
       "      (3): ReLU(inplace=True)\n",
       "      (4): MaxPool2d(kernel_size=2, stride=2, padding=0, dilation=1, ceil_mode=False)\n",
       "      (5): Conv2d(64, 128, kernel_size=(3, 3), stride=(1, 1), padding=(1, 1))\n",
       "      (6): ReLU(inplace=True)\n",
       "      (7): Conv2d(128, 128, kernel_size=(3, 3), stride=(1, 1), padding=(1, 1))\n",
       "      (8): ReLU(inplace=True)\n",
       "      (9): MaxPool2d(kernel_size=2, stride=2, padding=0, dilation=1, ceil_mode=False)\n",
       "      (10): Conv2d(128, 256, kernel_size=(3, 3), stride=(1, 1), padding=(1, 1))\n",
       "      (11): ReLU(inplace=True)\n",
       "      (12): Conv2d(256, 256, kernel_size=(3, 3), stride=(1, 1), padding=(1, 1))\n",
       "      (13): ReLU(inplace=True)\n",
       "      (14): Conv2d(256, 256, kernel_size=(3, 3), stride=(1, 1), padding=(1, 1))\n",
       "      (15): ReLU(inplace=True)\n",
       "      (16): Conv2d(256, 256, kernel_size=(3, 3), stride=(1, 1), padding=(1, 1))\n",
       "      (17): ReLU(inplace=True)\n",
       "      (18): MaxPool2d(kernel_size=2, stride=2, padding=0, dilation=1, ceil_mode=False)\n",
       "      (19): Conv2d(256, 512, kernel_size=(3, 3), stride=(1, 1), padding=(1, 1))\n",
       "      (20): ReLU(inplace=True)\n",
       "      (21): Conv2d(512, 512, kernel_size=(3, 3), stride=(1, 1), padding=(1, 1))\n",
       "      (22): ReLU(inplace=True)\n",
       "      (23): Conv2d(512, 512, kernel_size=(3, 3), stride=(1, 1), padding=(1, 1))\n",
       "      (24): ReLU(inplace=True)\n",
       "      (25): Conv2d(512, 512, kernel_size=(3, 3), stride=(1, 1), padding=(1, 1))\n",
       "      (26): ReLU(inplace=True)\n",
       "      (27): MaxPool2d(kernel_size=2, stride=2, padding=0, dilation=1, ceil_mode=False)\n",
       "      (28): Conv2d(512, 512, kernel_size=(3, 3), stride=(1, 1), padding=(1, 1))\n",
       "      (29): ReLU(inplace=True)\n",
       "      (30): Conv2d(512, 512, kernel_size=(3, 3), stride=(1, 1), padding=(1, 1))\n",
       "      (31): ReLU(inplace=True)\n",
       "      (32): Conv2d(512, 512, kernel_size=(3, 3), stride=(1, 1), padding=(1, 1))\n",
       "      (33): ReLU(inplace=True)\n",
       "      (34): Conv2d(512, 512, kernel_size=(3, 3), stride=(1, 1), padding=(1, 1))\n",
       "      (35): ReLU(inplace=True)\n",
       "      (36): MaxPool2d(kernel_size=2, stride=2, padding=0, dilation=1, ceil_mode=False)\n",
       "    )\n",
       "    (avgpool): AdaptiveAvgPool2d(output_size=(7, 7))\n",
       "    (classifier): Sequential(\n",
       "      (0): Linear(in_features=25088, out_features=4096, bias=True)\n",
       "      (1): ReLU(inplace=True)\n",
       "      (2): Dropout(p=0.5, inplace=False)\n",
       "      (3): Linear(in_features=4096, out_features=4096, bias=True)\n",
       "      (4): ReLU(inplace=True)\n",
       "      (5): Dropout(p=0.5, inplace=False)\n",
       "      (6): Linear(in_features=4096, out_features=1000, bias=True)\n",
       "    )\n",
       "  )\n",
       "  (1): ReLU()\n",
       "  (2): Linear(in_features=1000, out_features=10, bias=True)\n",
       ")"
      ]
     },
     "execution_count": 81,
     "metadata": {},
     "output_type": "execute_result"
    }
   ],
   "source": [
    "for param in modelVGG.parameters():\n",
    "    param.requires_grad = False\n",
    "\n",
    "modelVGG[2] = nn.Linear(1000, 10)\n",
    "modelVGG.to(device)\n"
   ]
  },
  {
   "cell_type": "code",
   "execution_count": 82,
   "metadata": {},
   "outputs": [
    {
     "name": "stdout",
     "output_type": "stream",
     "text": [
      "[1,  1145], loss: 2.073 \n",
      "[2,  1145], loss: 1.997 \n",
      "[3,  1145], loss: 1.974 \n",
      "[4,  1145], loss: 1.962 \n",
      "[5,  1145], loss: 1.952 \n",
      "[6,  1145], loss: 1.943 \n",
      "[7,  1145], loss: 1.936 \n",
      "[8,  1145], loss: 1.931 \n",
      "[9,  1145], loss: 1.926 \n",
      "[10,  1145], loss: 1.922 \n"
     ]
    }
   ],
   "source": [
    "trainedSVHN = train_model(modelVGG, train_setSVHN)"
   ]
  },
  {
   "cell_type": "code",
   "execution_count": 83,
   "metadata": {},
   "outputs": [
    {
     "name": "stdout",
     "output_type": "stream",
     "text": [
      "tensor(0.3881, device='cuda:0')\n"
     ]
    }
   ],
   "source": [
    "accSVHN = accuracy(trainedSVHN, test_setSVHN)\n",
    "print(accSVHN)"
   ]
  }
 ],
 "metadata": {
  "datalore": {
   "base_environment": "default",
   "computation_mode": "JUPYTER",
   "package_manager": "pip",
   "packages": [],
   "version": 1
  },
  "interpreter": {
   "hash": "b3ba2566441a7c06988d0923437866b63cedc61552a5af99d1f4fb67d367b25f"
  },
  "kernelspec": {
   "display_name": "Python 3.9.7 ('base')",
   "language": "python",
   "name": "python3"
  },
  "language_info": {
   "codemirror_mode": {
    "name": "ipython",
    "version": 3
   },
   "file_extension": ".py",
   "mimetype": "text/x-python",
   "name": "python",
   "nbconvert_exporter": "python",
   "pygments_lexer": "ipython3",
   "version": "3.9.7"
  }
 },
 "nbformat": 4,
 "nbformat_minor": 4
}
